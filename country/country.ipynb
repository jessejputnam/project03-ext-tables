{
 "cells": [
  {
   "cell_type": "code",
   "execution_count": 1,
   "metadata": {},
   "outputs": [],
   "source": [
    "import pandas as pd"
   ]
  },
  {
   "cell_type": "code",
   "execution_count": 7,
   "metadata": {},
   "outputs": [],
   "source": [
    "# Columns to be used\n",
    "cols = [\"alpha-3\", \"alpha-2\", \"name\", \"region\", \"sub-region\"]\n",
    "\n",
    "# Read in CSV\n",
    "countries = pd.read_csv(\"countries-full.csv\", usecols=cols)\n",
    "fips = pd.read_csv(\"fips.csv\")\n",
    "\n",
    "# Join dataframes and choose final column order\n",
    "final_cols = [\"FIPS\", \"alpha-3\", \"name\", \"region\", \"sub-region\"]\n",
    "df = countries.merge(fips, on=\"alpha-2\", how=\"left\")[final_cols]\n",
    "\n",
    "# Set index\n",
    "df.set_index(\"FIPS\", inplace=True)\n",
    "df.sort_index(inplace=True)\n",
    "\n",
    "# Write to CSV\n",
    "df.to_csv(\"../_final/country.csv\")"
   ]
  }
 ],
 "metadata": {
  "kernelspec": {
   "display_name": "Python 3",
   "language": "python",
   "name": "python3"
  },
  "language_info": {
   "codemirror_mode": {
    "name": "ipython",
    "version": 3
   },
   "file_extension": ".py",
   "mimetype": "text/x-python",
   "name": "python",
   "nbconvert_exporter": "python",
   "pygments_lexer": "ipython3",
   "version": "3.11.5"
  }
 },
 "nbformat": 4,
 "nbformat_minor": 2
}
