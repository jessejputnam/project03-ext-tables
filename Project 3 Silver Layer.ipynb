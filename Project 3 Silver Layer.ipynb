{
 "cells": [
  {
   "cell_type": "markdown",
   "metadata": {
    "application/vnd.databricks.v1+cell": {
     "cellMetadata": {
      "byteLimit": 2048000,
      "rowLimit": 10000
     },
     "inputWidgets": {},
     "nuid": "63c691e7-3514-4650-88a1-4419805d63bd",
     "showTitle": false,
     "title": ""
    }
   },
   "source": [
    "#Project 3 Silver Layer"
   ]
  },
  {
   "cell_type": "markdown",
   "metadata": {
    "application/vnd.databricks.v1+cell": {
     "cellMetadata": {
      "byteLimit": 2048000,
      "rowLimit": 10000
     },
     "inputWidgets": {},
     "nuid": "43cb3fad-a781-4fc1-b79d-8cf0ce6217b6",
     "showTitle": false,
     "title": ""
    }
   },
   "source": [
    "##Setup"
   ]
  },
  {
   "cell_type": "markdown",
   "metadata": {
    "application/vnd.databricks.v1+cell": {
     "cellMetadata": {
      "byteLimit": 2048000,
      "rowLimit": 10000
     },
     "inputWidgets": {},
     "nuid": "59850227-d9ce-4376-96b0-d107f657dc92",
     "showTitle": false,
     "title": ""
    }
   },
   "source": [
    "###*Imports*"
   ]
  },
  {
   "cell_type": "code",
   "execution_count": null,
   "metadata": {
    "application/vnd.databricks.v1+cell": {
     "cellMetadata": {
      "byteLimit": 2048000,
      "rowLimit": 10000
     },
     "inputWidgets": {},
     "nuid": "15fdeb55-e284-4137-98d8-922e7af7b85d",
     "showTitle": false,
     "title": ""
    }
   },
   "outputs": [],
   "source": [
    "from pyspark.sql.functions import col, concat, concat_ws, lit\n",
    "from pyspark.sql.window import *\n",
    "from pyspark.sql.functions import row_number"
   ]
  },
  {
   "cell_type": "markdown",
   "metadata": {
    "application/vnd.databricks.v1+cell": {
     "cellMetadata": {
      "byteLimit": 2048000,
      "rowLimit": 10000
     },
     "inputWidgets": {},
     "nuid": "5f097999-1ddf-4be9-893b-8888a57042c9",
     "showTitle": false,
     "title": ""
    }
   },
   "source": [
    "###*Set Authentication Credentials*"
   ]
  },
  {
   "cell_type": "code",
   "execution_count": null,
   "metadata": {
    "application/vnd.databricks.v1+cell": {
     "cellMetadata": {
      "byteLimit": 2048000,
      "rowLimit": 10000
     },
     "inputWidgets": {},
     "nuid": "970ef6e4-b51e-44b1-99c8-d114bba3cf49",
     "showTitle": false,
     "title": ""
    }
   },
   "outputs": [],
   "source": [
    "client_id = dbutils.secrets.get(scope='team1-keyvault',key='client-id')\n",
    "tenant_id = dbutils.secrets.get(scope='team1-keyvault',key='tenant-id')\n",
    "service_credential = dbutils.secrets.get(scope='team1-keyvault', key='client-secret')\n",
    "\n",
    "storage_acct_name = '20230821team1sa'\n",
    "cont_name = 'project3-team1'\n",
    "base_path = f'abfss://{cont_name}@{storage_acct_name}.dfs.core.windows.net'\n",
    "bronze_path = f'{base_path}/BronzeLayer'\n",
    "silver_path = f'{base_path}/SilverLayer'\n",
    "ext_tables_path = f'{bronze_path}/ExternalTables'\n",
    "main_tables_path = f'{bronze_path}/BronzePartitions'"
   ]
  },
  {
   "cell_type": "code",
   "execution_count": null,
   "metadata": {
    "application/vnd.databricks.v1+cell": {
     "cellMetadata": {
      "byteLimit": 2048000,
      "rowLimit": 10000
     },
     "inputWidgets": {},
     "nuid": "ef755467-1e8e-487f-8c6f-7fef8b7e8fe5",
     "showTitle": false,
     "title": ""
    }
   },
   "outputs": [],
   "source": [
    "spark.conf.set(f'fs.azure.account.auth.type.{storage_acct_name}.dfs.core.windows.net', 'OAuth')\n",
    "spark.conf.set(f'fs.azure.account.oauth.provider.type.{storage_acct_name}.dfs.core.windows.net', 'org.apache.hadoop.fs.azurebfs.oauth2.ClientCredsTokenProvider')\n",
    "spark.conf.set(f'fs.azure.account.oauth2.client.id.{storage_acct_name}.dfs.core.windows.net', client_id)\n",
    "spark.conf.set(f'fs.azure.account.oauth2.client.secret.{storage_acct_name}.dfs.core.windows.net', service_credential)\n",
    "spark.conf.set(f'fs.azure.account.oauth2.client.endpoint.{storage_acct_name}.dfs.core.windows.net', f'https://login.microsoftonline.com/{tenant_id}/oauth2/token')"
   ]
  },
  {
   "cell_type": "markdown",
   "metadata": {
    "application/vnd.databricks.v1+cell": {
     "cellMetadata": {
      "byteLimit": 2048000,
      "rowLimit": 10000
     },
     "inputWidgets": {},
     "nuid": "a8c04492-6b68-4917-a244-54eb3eb2f8f4",
     "showTitle": false,
     "title": ""
    }
   },
   "source": [
    "###*Load Main Tables*"
   ]
  },
  {
   "cell_type": "code",
   "execution_count": null,
   "metadata": {
    "application/vnd.databricks.v1+cell": {
     "cellMetadata": {
      "byteLimit": 2048000,
      "rowLimit": 10000
     },
     "inputWidgets": {},
     "nuid": "8d669f60-e442-4e00-b443-24f96c376038",
     "showTitle": false,
     "title": ""
    }
   },
   "outputs": [],
   "source": [
    "event_mentions_df = spark.read.parquet(f'{main_tables_path}/EventMentionPartition')\n",
    "event_df = spark.read.parquet(f'{main_tables_path}/EventPartition')"
   ]
  },
  {
   "cell_type": "markdown",
   "metadata": {
    "application/vnd.databricks.v1+cell": {
     "cellMetadata": {
      "byteLimit": 2048000,
      "rowLimit": 10000
     },
     "inputWidgets": {},
     "nuid": "42c7afb7-b98f-42f9-b186-24b85bd34b36",
     "showTitle": false,
     "title": ""
    }
   },
   "source": [
    "###*Load External Tables*"
   ]
  },
  {
   "cell_type": "code",
   "execution_count": null,
   "metadata": {
    "application/vnd.databricks.v1+cell": {
     "cellMetadata": {
      "byteLimit": 2048000,
      "rowLimit": 10000
     },
     "inputWidgets": {},
     "nuid": "f928ab2e-15b1-44f0-b2f3-84e9b127e9cc",
     "showTitle": false,
     "title": ""
    }
   },
   "outputs": [],
   "source": [
    "countries_df = spark.read.parquet(f'{ext_tables_path}/Country.merged')\n",
    "cameo_ethnic_df = spark.read.parquet(f'{ext_tables_path}/CAMEO.ethnic')\n",
    "cameo_eventcodes_df = spark.read.parquet(f'{ext_tables_path}/CAMEO.eventcodes')\n",
    "quad_class_df = spark.read.parquet(f'{ext_tables_path}/CAMEO.quadclass')\n",
    "cameo_knowngroup_df = spark.read.parquet(f'{ext_tables_path}/CAMEO.knowngroup')\n",
    "cameo_religion_df = spark.read.parquet(f'{ext_tables_path}/CAMEO.religion')\n",
    "cameo_type_df = spark.read.parquet(f'{ext_tables_path}/CAMEO.type')"
   ]
  },
  {
   "cell_type": "markdown",
   "metadata": {
    "application/vnd.databricks.v1+cell": {
     "cellMetadata": {
      "byteLimit": 2048000,
      "rowLimit": 10000
     },
     "inputWidgets": {},
     "nuid": "2439e109-f96c-40dd-b371-184f9c155205",
     "showTitle": false,
     "title": ""
    }
   },
   "source": [
    "##Create Tables"
   ]
  },
  {
   "cell_type": "markdown",
   "metadata": {
    "application/vnd.databricks.v1+cell": {
     "cellMetadata": {
      "byteLimit": 2048000,
      "rowLimit": 10000
     },
     "inputWidgets": {},
     "nuid": "181182c9-727f-4742-8c25-aab3d037c10a",
     "showTitle": false,
     "title": ""
    }
   },
   "source": [
    "###*Create Actor GEO Table*"
   ]
  },
  {
   "cell_type": "code",
   "execution_count": null,
   "metadata": {
    "application/vnd.databricks.v1+cell": {
     "cellMetadata": {
      "byteLimit": 2048000,
      "rowLimit": 10000
     },
     "inputWidgets": {},
     "nuid": "1c26b599-8f43-49e3-9e36-95755afd0ab9",
     "showTitle": false,
     "title": ""
    }
   },
   "outputs": [],
   "source": [
    "actor_geo_df = event_df.select(\n",
    "    'Actor1Geo_CountryCode', 'Actor1Geo_Lat', 'Actor1Geo_Long'\n",
    ").withColumnsRenamed(\n",
    "    {\n",
    "        'Actor1Geo_CountryCode': 'ActorGeo_CountryCode',\n",
    "        'Actor1Geo_Lat': 'ActorGeo_Lat',\n",
    "        'Actor1Geo_Long': 'ActorGeo_Long',\n",
    "    }\n",
    ")\n",
    "\n",
    "actor2_geo_df = event_df.select(\n",
    "    'Actor2Geo_CountryCode', 'Actor2Geo_Lat', 'Actor2Geo_Long'\n",
    ").withColumnsRenamed(\n",
    "    {\n",
    "        'Actor2Geo_CountryCode': 'ActorGeo_CountryCode',\n",
    "        'Actor2Geo_Lat': 'ActorGeo_Lat',\n",
    "        'Actor2Geo_Long': 'ActorGeo_Long',\n",
    "    }\n",
    ")\n",
    "\n",
    "actor_geo_df = actor_geo_df.union(actor2_geo_df)\n",
    "\n",
    "actor_geo_df = actor_geo_df.dropDuplicates()"
   ]
  },
  {
   "cell_type": "code",
   "execution_count": null,
   "metadata": {
    "application/vnd.databricks.v1+cell": {
     "cellMetadata": {
      "byteLimit": 2048000,
      "rowLimit": 10000
     },
     "inputWidgets": {},
     "nuid": "eb6b57d0-c5d0-4305-877e-513602032e5a",
     "showTitle": false,
     "title": ""
    }
   },
   "outputs": [],
   "source": [
    "Window = Window().orderBy(lit('A'))\n",
    "actor_geo_df = actor_geo_df.withColumn(\n",
    "    'ActorGeo_ID', row_number().over(Window)\n",
    ")"
   ]
  },
  {
   "cell_type": "code",
   "execution_count": null,
   "metadata": {
    "application/vnd.databricks.v1+cell": {
     "cellMetadata": {
      "byteLimit": 2048000,
      "rowLimit": 10000
     },
     "inputWidgets": {},
     "nuid": "99213656-3a9c-4bbd-af98-7ef2751f9983",
     "showTitle": false,
     "title": ""
    }
   },
   "outputs": [],
   "source": [
    "condition1 = [event_df.Actor1Geo_CountryCode.eqNullSafe(actor_geo_df.ActorGeo_CountryCode) \\\n",
    "              & event_df.Actor1Geo_Lat.eqNullSafe(actor_geo_df.ActorGeo_Lat) \\\n",
    "              & event_df.Actor1Geo_Long.eqNullSafe(actor_geo_df.ActorGeo_Long)]\n",
    "\n",
    "condition2 = [event_df.Actor2Geo_CountryCode.eqNullSafe(actor_geo_df.ActorGeo_CountryCode) \\\n",
    "              & event_df.Actor2Geo_Lat.eqNullSafe(actor_geo_df.ActorGeo_Lat) \\\n",
    "              & event_df.Actor2Geo_Long.eqNullSafe(actor_geo_df.ActorGeo_Long)]\n",
    "\n",
    "event_df = event_df.join(actor_geo_df, on=condition1, how='left')\n",
    "event_df = event_df.withColumnRenamed('ActorGeo_ID', 'Actor1Geo_ID')\n",
    "event_df = event_df.drop('ActorGeo_CountryCode', 'ActorGeo_Lat', 'ActorGeo_Long')\n",
    "\n",
    "event_df = event_df.join(actor_geo_df, on=condition2,  how='left')\n",
    "event_df = event_df.withColumnRenamed('ActorGeo_ID', 'Actor2Geo_ID')\n",
    "event_df = event_df.drop('ActorGeo_CountryCode', 'ActorGeo_Lat', 'ActorGeo_Long')"
   ]
  },
  {
   "cell_type": "markdown",
   "metadata": {
    "application/vnd.databricks.v1+cell": {
     "cellMetadata": {
      "byteLimit": 2048000,
      "rowLimit": 10000
     },
     "inputWidgets": {},
     "nuid": "2817aa7e-e36a-47dc-85a6-9ac03cf805f8",
     "showTitle": false,
     "title": ""
    }
   },
   "source": [
    "###*Create Actor Table*"
   ]
  },
  {
   "cell_type": "markdown",
   "metadata": {
    "application/vnd.databricks.v1+cell": {
     "cellMetadata": {
      "byteLimit": 2048000,
      "rowLimit": 10000
     },
     "inputWidgets": {},
     "nuid": "f1bf4e88-3506-4508-a157-afb5a8c402c5",
     "showTitle": false,
     "title": ""
    }
   },
   "source": [
    "####*Add actor IDs*"
   ]
  },
  {
   "cell_type": "code",
   "execution_count": null,
   "metadata": {
    "application/vnd.databricks.v1+cell": {
     "cellMetadata": {
      "byteLimit": 2048000,
      "rowLimit": 10000
     },
     "inputWidgets": {},
     "nuid": "2e7dab4f-b05d-4091-b06f-8481d636a30e",
     "showTitle": false,
     "title": ""
    }
   },
   "outputs": [],
   "source": [
    "event_df = event_df.withColumn('Actor1ID', concat(col('Actor1Code'), col('Actor1Name')))\n",
    "event_df = event_df.withColumn('Actor2ID', concat(col('Actor2Code'), col('Actor2Name')))"
   ]
  },
  {
   "cell_type": "code",
   "execution_count": null,
   "metadata": {
    "application/vnd.databricks.v1+cell": {
     "cellMetadata": {
      "byteLimit": 2048000,
      "rowLimit": 10000
     },
     "inputWidgets": {},
     "nuid": "7d00c01c-c3f4-4ba3-a975-c4ff307e93e4",
     "showTitle": false,
     "title": ""
    }
   },
   "outputs": [],
   "source": [
    "actor1 = event_df.select(\n",
    "    'Actor1ID',\n",
    "    'Actor1Name',\n",
    "    'Actor1CountryCode',\n",
    "    'Actor1KnownGroupCode',\n",
    "    'Actor1EthnicCode',\n",
    "    'Actor1Religion1Code',\n",
    "    'Actor1Religion2Code',\n",
    "    'Actor1Type1Code',\n",
    "    'Actor1Type2Code',\n",
    "    'Actor1Type3Code',\n",
    ").where(col('Actor1ID').isNotNull())"
   ]
  },
  {
   "cell_type": "code",
   "execution_count": null,
   "metadata": {
    "application/vnd.databricks.v1+cell": {
     "cellMetadata": {
      "byteLimit": 2048000,
      "rowLimit": 10000
     },
     "inputWidgets": {},
     "nuid": "4be89f99-a33e-4049-9721-254d5029eba1",
     "showTitle": false,
     "title": ""
    }
   },
   "outputs": [],
   "source": [
    "actor1 = actor1.withColumnsRenamed(\n",
    "    {\n",
    "        'Actor1ID': 'Actor_ID',\n",
    "        'Actor1Name': 'Actor_Name',\n",
    "        'Actor1CountryCode': 'Actor_CountryCode',\n",
    "        'Actor1KnownGroupCode': 'Actor_KnownGroupCode',\n",
    "        'Actor1EthnicCode': 'Actor_EthnicCode',\n",
    "        'Actor1Religion1Code': 'Actor_Religion1Code',\n",
    "        'Actor1Religion2Code': 'Actor_Religion2Code',\n",
    "        'Actor1Type1Code': 'Actor_Type1Code',\n",
    "        'Actor1Type2Code': 'Actor_Type2Code',\n",
    "        'Actor1Type3Code': 'Actor_Type3Code',\n",
    "    }\n",
    ")"
   ]
  },
  {
   "cell_type": "code",
   "execution_count": null,
   "metadata": {
    "application/vnd.databricks.v1+cell": {
     "cellMetadata": {
      "byteLimit": 2048000,
      "rowLimit": 10000
     },
     "inputWidgets": {},
     "nuid": "01c11bb8-4c81-4bd8-9023-6667c820274c",
     "showTitle": false,
     "title": ""
    }
   },
   "outputs": [],
   "source": [
    "actor2 = event_df.select(\n",
    "    'Actor2ID',\n",
    "    'Actor2Name',\n",
    "    'Actor2CountryCode',\n",
    "    'Actor2KnownGroupCode',\n",
    "    'Actor2EthnicCode',\n",
    "    'Actor2Religion1Code',\n",
    "    'Actor2Religion2Code',\n",
    "    'Actor2Type1Code',\n",
    "    'Actor2Type2Code',\n",
    "    'Actor2Type3Code',\n",
    ").where(col('Actor2ID').isNotNull())"
   ]
  },
  {
   "cell_type": "code",
   "execution_count": null,
   "metadata": {
    "application/vnd.databricks.v1+cell": {
     "cellMetadata": {
      "byteLimit": 2048000,
      "rowLimit": 10000
     },
     "inputWidgets": {},
     "nuid": "92d5101c-d723-4d00-a264-c38a1c448526",
     "showTitle": false,
     "title": ""
    }
   },
   "outputs": [],
   "source": [
    "actor2 = actor2.withColumnsRenamed(\n",
    "    {\n",
    "        'Actor2ID': 'Actor_ID',\n",
    "        'Actor2Name': 'Actor_Name',\n",
    "        'Actor2CountryCode': 'Actor_CountryCode',\n",
    "        'Actor2KnownGroupCode': 'Actor_KnownGroupCode',\n",
    "        'Actor2EthnicCode': 'Actor_EthnicCode',\n",
    "        'Actor2Religion1Code': 'Actor_Religion1Code',\n",
    "        'Actor2Religion2Code': 'Actor_Religion2Code',\n",
    "        'Actor2Type1Code': 'Actor_Type1Code',\n",
    "        'Actor2Type2Code': 'Actor_Type2Code',\n",
    "        'Actor2Type3Code': 'Actor_Type3Code',\n",
    "    }\n",
    ")"
   ]
  },
  {
   "cell_type": "code",
   "execution_count": null,
   "metadata": {
    "application/vnd.databricks.v1+cell": {
     "cellMetadata": {
      "byteLimit": 2048000,
      "rowLimit": 10000
     },
     "inputWidgets": {},
     "nuid": "ba2d6729-014c-461c-bba1-d0e009265fef",
     "showTitle": false,
     "title": ""
    }
   },
   "outputs": [],
   "source": [
    "actor_df = actor1.union(actor2)\n",
    "actor_df = actor_df.dropDuplicates()"
   ]
  },
  {
   "cell_type": "markdown",
   "metadata": {
    "application/vnd.databricks.v1+cell": {
     "cellMetadata": {
      "byteLimit": 2048000,
      "rowLimit": 10000
     },
     "inputWidgets": {},
     "nuid": "a759a4ab-2916-4211-b910-4e05e9d6951f",
     "showTitle": false,
     "title": ""
    }
   },
   "source": [
    "####*Combine external actor code tables*"
   ]
  },
  {
   "cell_type": "markdown",
   "metadata": {
    "application/vnd.databricks.v1+cell": {
     "cellMetadata": {
      "byteLimit": 2048000,
      "rowLimit": 10000
     },
     "inputWidgets": {},
     "nuid": "87af726b-e106-4807-a7e4-0a1b102fe7ee",
     "showTitle": false,
     "title": ""
    }
   },
   "source": [
    "#####*Combine ActorKnownGroup*"
   ]
  },
  {
   "cell_type": "code",
   "execution_count": null,
   "metadata": {
    "application/vnd.databricks.v1+cell": {
     "cellMetadata": {
      "byteLimit": 2048000,
      "rowLimit": 10000
     },
     "inputWidgets": {},
     "nuid": "c2dd3018-4fbf-44b5-9a3d-f253efaa9a85",
     "showTitle": false,
     "title": ""
    }
   },
   "outputs": [],
   "source": [
    "actor_df = (\n",
    "    actor_df.join(\n",
    "        cameo_knowngroup_df,\n",
    "        on=[actor_df.Actor_KnownGroupCode == cameo_knowngroup_df.code],\n",
    "        how='left',\n",
    "    )\n",
    "    .drop('code', 'Actor_KnownGroupCode')\n",
    "    .withColumnRenamed('label', 'Actor_KnownGroup')\n",
    ")"
   ]
  },
  {
   "cell_type": "markdown",
   "metadata": {
    "application/vnd.databricks.v1+cell": {
     "cellMetadata": {
      "byteLimit": 2048000,
      "rowLimit": 10000
     },
     "inputWidgets": {},
     "nuid": "c6089358-e4ab-47e7-8563-443783c6247d",
     "showTitle": false,
     "title": ""
    }
   },
   "source": [
    "#####*Combine ActorEthnicCode*"
   ]
  },
  {
   "cell_type": "code",
   "execution_count": null,
   "metadata": {
    "application/vnd.databricks.v1+cell": {
     "cellMetadata": {
      "byteLimit": 2048000,
      "rowLimit": 10000
     },
     "inputWidgets": {},
     "nuid": "f5edd740-e46f-43eb-a612-31783635621c",
     "showTitle": false,
     "title": ""
    }
   },
   "outputs": [],
   "source": [
    "actor_df = actor_df.join(\n",
    "    cameo_ethnic_df, on=[actor_df.Actor_EthnicCode == cameo_ethnic_df.code], how='left'\n",
    ")\n",
    "actor_df = actor_df.drop('Actor_EthnicCode', 'code')\n",
    "actor_df = actor_df.withColumnRenamed('label', 'Actor_Ethnic')"
   ]
  },
  {
   "cell_type": "markdown",
   "metadata": {
    "application/vnd.databricks.v1+cell": {
     "cellMetadata": {
      "byteLimit": 2048000,
      "rowLimit": 10000
     },
     "inputWidgets": {},
     "nuid": "d074cce1-9037-4bff-ace1-7f9a55558a42",
     "showTitle": false,
     "title": ""
    }
   },
   "source": [
    "#####*Combine ActorType*"
   ]
  },
  {
   "cell_type": "code",
   "execution_count": null,
   "metadata": {
    "application/vnd.databricks.v1+cell": {
     "cellMetadata": {
      "byteLimit": 2048000,
      "rowLimit": 10000
     },
     "inputWidgets": {},
     "nuid": "406f5cca-84bd-4fa4-bfb5-e606edcf5a23",
     "showTitle": false,
     "title": ""
    }
   },
   "outputs": [],
   "source": [
    "actor_df = actor_df.join(\n",
    "    cameo_type_df, on=[actor_df.Actor_Type1Code == cameo_type_df.code], how='left'\n",
    ")\n",
    "actor_df = actor_df.drop('Actor_Type1Code', 'code')\n",
    "actor_df = actor_df.withColumnRenamed('label', 'Actor_Type1')\n",
    "\n",
    "actor_df = actor_df.join(\n",
    "    cameo_type_df, on=[actor_df.Actor_Type2Code == cameo_type_df.code], how='left'\n",
    ")\n",
    "actor_df = actor_df.drop('Actor_Type2Code', 'code')\n",
    "actor_df = actor_df.withColumnRenamed('label', 'Actor_Type2')\n",
    "\n",
    "actor_df = actor_df.join(\n",
    "    cameo_type_df, on=[actor_df.Actor_Type3Code == cameo_type_df.code], how='left'\n",
    ")\n",
    "actor_df = actor_df.drop('Actor_Type3Code', 'code')\n",
    "actor_df = actor_df.withColumnRenamed('label', 'Actor_Type3')"
   ]
  },
  {
   "cell_type": "markdown",
   "metadata": {
    "application/vnd.databricks.v1+cell": {
     "cellMetadata": {
      "byteLimit": 2048000,
      "rowLimit": 10000
     },
     "inputWidgets": {},
     "nuid": "669e4c06-6768-47f9-a894-4415bc4eb5cf",
     "showTitle": false,
     "title": ""
    }
   },
   "source": [
    "#####*Combine ActorReligion*"
   ]
  },
  {
   "cell_type": "code",
   "execution_count": null,
   "metadata": {
    "application/vnd.databricks.v1+cell": {
     "cellMetadata": {
      "byteLimit": 2048000,
      "rowLimit": 10000
     },
     "inputWidgets": {},
     "nuid": "83ab4414-bb44-4d6d-8a51-3946d1448274",
     "showTitle": false,
     "title": ""
    }
   },
   "outputs": [],
   "source": [
    "actor_df = actor_df.join(\n",
    "    cameo_religion_df,\n",
    "    on=[actor_df.Actor_Religion1Code == cameo_religion_df.code],\n",
    "    how='left',\n",
    ")\n",
    "actor_df = actor_df.drop('Actor_Religion1Code', 'code')\n",
    "actor_df = actor_df.withColumnRenamed('label', 'Actor_Religion1')"
   ]
  },
  {
   "cell_type": "code",
   "execution_count": null,
   "metadata": {
    "application/vnd.databricks.v1+cell": {
     "cellMetadata": {
      "byteLimit": 2048000,
      "rowLimit": 10000
     },
     "inputWidgets": {},
     "nuid": "e4942bf0-bc69-46ad-bee9-43410ce1a169",
     "showTitle": false,
     "title": ""
    }
   },
   "outputs": [],
   "source": [
    "actor_df = actor_df.join(\n",
    "    cameo_religion_df,\n",
    "    on=[actor_df.Actor_Religion2Code == cameo_religion_df.code],\n",
    "    how='left',\n",
    ")\n",
    "actor_df = actor_df.drop('Actor_Religion2Code', 'code')\n",
    "actor_df = actor_df.withColumnRenamed('label', 'Actor_Religion2')"
   ]
  },
  {
   "cell_type": "markdown",
   "metadata": {
    "application/vnd.databricks.v1+cell": {
     "cellMetadata": {
      "byteLimit": 2048000,
      "rowLimit": 10000
     },
     "inputWidgets": {},
     "nuid": "aa4d6f01-55a5-4067-b8bf-0af1ce944f59",
     "showTitle": false,
     "title": ""
    }
   },
   "source": [
    "###*Create Event Mention Table*"
   ]
  },
  {
   "cell_type": "code",
   "execution_count": null,
   "metadata": {
    "application/vnd.databricks.v1+cell": {
     "cellMetadata": {
      "byteLimit": 2048000,
      "rowLimit": 10000
     },
     "inputWidgets": {},
     "nuid": "9350c6ed-99bb-4e4c-bc21-8bc80ab0ce6f",
     "showTitle": false,
     "title": ""
    }
   },
   "outputs": [],
   "source": [
    "event_mentions_df = event_mentions_df.drop(\n",
    "    'Extras',\n",
    "    'Confidence',\n",
    "    'InRawText',\n",
    "    'ActionCharOffset',\n",
    "    'SentenceID',\n",
    "    'EventTimeDate',\n",
    "    'MentionDocTranslationInfo',\n",
    ")\n",
    "window = Window.orderBy(lit('A'))\n",
    "event_mentions_df = event_mentions_df.withColumn(\n",
    "    'EventMentionID', row_number().over(window)\n",
    ")"
   ]
  },
  {
   "cell_type": "markdown",
   "metadata": {
    "application/vnd.databricks.v1+cell": {
     "cellMetadata": {
      "byteLimit": 2048000,
      "rowLimit": 10000
     },
     "inputWidgets": {},
     "nuid": "297b1035-c3a9-4c27-98be-aef770e01108",
     "showTitle": false,
     "title": ""
    }
   },
   "source": [
    "###*Create Event Table*"
   ]
  },
  {
   "cell_type": "code",
   "execution_count": null,
   "metadata": {
    "application/vnd.databricks.v1+cell": {
     "cellMetadata": {
      "byteLimit": 2048000,
      "rowLimit": 10000
     },
     "inputWidgets": {},
     "nuid": "278fd745-bd2c-4a40-8df4-db39f667a624",
     "showTitle": false,
     "title": ""
    }
   },
   "outputs": [],
   "source": [
    "event_df = event_df.select(\n",
    "    'GLOBALEVENTID',\n",
    "    'SQLDATE',\n",
    "    concat(col('Actor1Code'), col('Actor1Name')).alias('Actor1ID'),\n",
    "    'Actor1Geo_ID',\n",
    "    concat(col('Actor2Code'), col('Actor2Name')).alias('Actor2ID'),\n",
    "    'Actor2Geo_ID',\n",
    "    'EventCode',\n",
    "    'QuadClass',\n",
    "    'GoldsteinScale',\n",
    "    'AvgTone',\n",
    "    'SOURCEURL',\n",
    ")"
   ]
  },
  {
   "cell_type": "markdown",
   "metadata": {
    "application/vnd.databricks.v1+cell": {
     "cellMetadata": {
      "byteLimit": 2048000,
      "rowLimit": 10000
     },
     "inputWidgets": {},
     "nuid": "9a66e728-84ce-4c50-9b23-1f7ac1e81c74",
     "showTitle": false,
     "title": ""
    }
   },
   "source": [
    "##Write Data"
   ]
  },
  {
   "cell_type": "code",
   "execution_count": null,
   "metadata": {
    "application/vnd.databricks.v1+cell": {
     "cellMetadata": {
      "byteLimit": 2048000,
      "rowLimit": 10000
     },
     "inputWidgets": {},
     "nuid": "8e7f26ed-175d-4c1c-99f2-fbe1be25b574",
     "showTitle": false,
     "title": ""
    }
   },
   "outputs": [],
   "source": [
    "event_df.repartition(10).write.mode('overwrite').parquet(f'{silver_path}/EVENT')\n",
    "event_mentions_df.repartition(24).write.mode('overwrite').parquet(f'{silver_path}/EVENT_MENTIONS')\n",
    "actor_df.write.mode('overwrite').parquet(f'{silver_path}/ACTOR')\n",
    "actor_geo_df.write.mode('overwrite').parquet(f'{silver_path}/ACTOR_GEO')\n",
    "quad_class_df.write.mode('overwrite').parquet(f'{silver_path}/QUAD_CLASS')\n",
    "countries_df.write.mode('overwrite').parquet(f'{silver_path}/COUNTRIES')\n",
    "cameo_eventcodes_df.write.mode('overwrite').parquet(f'{silver_path}/CAMEO_EVENTCODES')"
   ]
  }
 ],
 "metadata": {
  "application/vnd.databricks.v1+notebook": {
   "dashboards": [],
   "language": "python",
   "notebookMetadata": {
    "mostRecentlyExecutedCommandWithImplicitDF": {
     "commandId": 918615195859687,
     "dataframes": [
      "_sqldf"
     ]
    },
    "pythonIndentUnit": 4
   },
   "notebookName": "Project 3 Silver Layer",
   "widgets": {}
  },
  "language_info": {
   "name": "python"
  }
 },
 "nbformat": 4,
 "nbformat_minor": 0
}
