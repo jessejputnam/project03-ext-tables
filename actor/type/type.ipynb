{
 "cells": [
  {
   "cell_type": "markdown",
   "metadata": {},
   "source": [
    "AGR\n",
    "BUS\n",
    "COP\n",
    "CRM\n",
    "CVL\n",
    "DEV\n",
    "EDU\n",
    "ELI\n",
    "ENV\n",
    "GOV\n",
    "HLH\n",
    "HRI\n",
    "IGO\n",
    "IMG\n",
    "INS\n",
    "INT\n",
    "JUD\n",
    "LAB\n",
    "LEG\n",
    "MED\n",
    "MIL\n",
    "MNC\n",
    "NGM\n",
    "NGO\n",
    "OPP\n",
    "RAD\n",
    "REB\n",
    "REF\n",
    "SEP\n",
    "SET\n",
    "SPY\n",
    "UAF\n",
    "UIS"
   ]
  }
 ],
 "metadata": {
  "kernelspec": {
   "display_name": "Python 3",
   "language": "python",
   "name": "python3"
  },
  "language_info": {
   "name": "python",
   "version": "3.11.5"
  }
 },
 "nbformat": 4,
 "nbformat_minor": 2
}
