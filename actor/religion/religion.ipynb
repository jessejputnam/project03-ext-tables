{
 "cells": [
  {
   "cell_type": "markdown",
   "metadata": {},
   "source": [
    "## LEVEL 1\n",
    "ADR - African Diasporic Religions\n",
    "ATH - Atheist\n",
    "BAH - Bahai\n",
    "BUD - Buddhist\n",
    "CHR - Christian\n",
    "CON - Confucian\n",
    "HIN - Hindu\n",
    "JAN - Jain\n",
    "JEW - Jew\n",
    "MOS - Muslim\n",
    "NRM - New Religious Movement\n",
    "SHN - Shinto\n",
    "SIK - Sikh\n",
    "TAO - Daoist\n",
    "ZRO - Zoroastrian\n",
    "\n",
    "## LEVEL 2\n",
    "ALE - \n",
    "CHR - \n",
    "CPT - \n",
    "CTH - \n",
    "DOX - \n",
    "HIN - \n",
    "HSD - \n",
    "JEW - \n",
    "JHW - \n",
    "LDS - \n",
    "MOS - \n",
    "MRN - \n",
    "NRM - \n",
    "PAG - \n",
    "PRO - \n",
    "SFI - \n",
    "SHI - \n",
    "SUN - \n",
    "UDX - "
   ]
  }
 ],
 "metadata": {
  "language_info": {
   "name": "python"
  }
 },
 "nbformat": 4,
 "nbformat_minor": 2
}
